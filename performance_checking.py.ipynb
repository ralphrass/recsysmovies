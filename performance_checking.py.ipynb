{
 "cells": [
  {
   "cell_type": "code",
   "execution_count": 1,
   "metadata": {
    "collapsed": true
   },
   "outputs": [],
   "source": [
    "# necessary modules\n",
    "import sqlite3\n",
    "import utils\n",
    "import recommender_classifier\n",
    "import evaluation\n",
    "import time\n",
    "import numpy as np\n",
    "import matplotlib.pyplot as plt\n",
    "import matplotlib.ticker as ticker\n",
    "from sklearn import svm\n",
    "from sklearn.metrics import mean_absolute_error\n",
    "from multiprocessing import Pool, Process, Manager\n",
    "from pylab import MaxNLocator"
   ]
  },
  {
   "cell_type": "code",
   "execution_count": 2,
   "metadata": {
    "collapsed": false
   },
   "outputs": [
    {
     "name": "stdout",
     "output_type": "stream",
     "text": [
      "138\n"
     ]
    }
   ],
   "source": [
    "# load random users and feature vectors\n",
    "conn = sqlite3.connect('database.db')\n",
    "Users = utils.selectRandomUsers(conn)\n",
    "LOW_LEVEL_FEATURES, DEEP_FEATURES_RESNET, HYBRID_FEATURES_RESNET = utils.extract_features()\n",
    "foo, DEEP_FEATURES_BOF, HYBRID_FEATURES_BOF = utils.extract_features('bof_128.bin')\n",
    "# USER_TFIDF_FEATURES, MOVIE_TFIDF_FEATURES = utils.extract_tfidf_features()\n",
    "\n",
    "print len(Users)\n",
    "\n",
    "user_profiles = recommender_classifier.build_user_profiles(conn, Users)"
   ]
  },
  {
   "cell_type": "code",
   "execution_count": 3,
   "metadata": {
    "collapsed": false
   },
   "outputs": [],
   "source": [
    "def run(user_profiles, N, feature_vector, feature_vector2=None):\n",
    "\n",
    "    conn = sqlite3.connect('database.db')\n",
    "    \n",
    "    SumRecall, SumPrecision = 0, 0\n",
    "    \n",
    "    for user, profile in user_profiles.iteritems():                \n",
    "        \n",
    "        if feature_vector2 is not None:\n",
    "            if np.sum(feature_vector[user]) == 0:\n",
    "                print \"Blank user profile\", user\n",
    "                continue\n",
    "        \n",
    "        hits = 0\n",
    "        \n",
    "        predictions = recommender_classifier.get_predict_collaborative_filtering(conn, profile, feature_vector, feature_vector2)\n",
    "        # print \"Predictions\", sorted(predictions, key=lambda tup: tup[2], reverse=True)\n",
    "        \n",
    "        for elite_movie in profile['datasets']['elite_test']:\n",
    "                        \n",
    "            if feature_vector is list and elite_movie[0] not in feature_vector:\n",
    "                continue\n",
    "                \n",
    "            # Predict to the user movie and to random movies that the user did not rated\n",
    "            # print predictions            \n",
    "            elite_prediction = recommender_classifier.get_prediction_elite(conn, elite_movie, profile, feature_vector, feature_vector2)\n",
    "            all_predictions = predictions[:]\n",
    "            all_predictions.append(elite_prediction)\n",
    "            \n",
    "            # print \"Elite Movie\", elite_movie, elite_prediction\n",
    "            \n",
    "            hits += recommender_classifier.count_hit(all_predictions, elite_movie, N)\n",
    "        try:\n",
    "            recall = hits / float(len(profile['datasets']['elite_test']))\n",
    "            SumRecall += recall\n",
    "            SumPrecision += (recall / float(N))\n",
    "        except ZeroDivisionError:\n",
    "            continue\n",
    "        # print \"Size is\", len(predictions)\n",
    "        # print \"Predictions\", sorted(predictions, key=lambda tup: tup[2], reverse=True)\n",
    "\n",
    "    size = len(user_profiles)\n",
    "    avgRecall = utils.evaluateAverage(SumRecall, size)\n",
    "    avgPrecision = utils.evaluateAverage(SumPrecision, size)\n",
    "\n",
    "    return avgPrecision, avgRecall"
   ]
  },
  {
   "cell_type": "code",
   "execution_count": 4,
   "metadata": {
    "collapsed": false
   },
   "outputs": [],
   "source": [
    "# def experiment(N, user_profiles_low_level, LOW_LEVEL_FEATURES, user_profiles_deep, DEEP_FEATURES):\n",
    "def experiment(N, res_ll,res_deep,res_hybrid,res_random,res_deep_bof,res_hybrid_bof):\n",
    "    \n",
    "    global user_profiles, LOW_LEVEL_FEATURES, DEEP_FEATURES_RESNET, HYBRID_FEATURES_RESNET, DEEP_FEATURES_BOF, HYBRID_FEATURES_BOF\n",
    "    \n",
    "    result = {}\n",
    "    start = time.time()\n",
    "    \n",
    "    # Tag-based\n",
    "    # p_t, r_t = run(user_profiles, N, USER_TFIDF_FEATURES, MOVIE_TFIDF_FEATURES)\n",
    "    # print \"Tag-based Recall\", r_t, \"Tag-based Precision\", p_t, \"For iteration with\", N\n",
    "    \n",
    "    # LOW LEVEL FEATURES check precision, recall and mae\n",
    "    p_l, r_l = run(user_profiles, N, LOW_LEVEL_FEATURES)\n",
    "    res_ll[N] = {'ll': {'recall': r_l, 'precision': p_l} }\n",
    "    print \"Low-Level Recall\", r_l, \"Low-Level Precision\", p_l, \"For iteration with\", N\n",
    "        \n",
    "    # end = time.time()\n",
    "    # print \"Execution time\", (end - start)\n",
    "\n",
    "    # start = time.time()\n",
    "    # DEEP FEATURES - RESNET\n",
    "    p_d, r_d = run(user_profiles, N, DEEP_FEATURES_RESNET)\n",
    "    res_deep[N] = {'deep_resnet': {'recall': r_d, 'precision': p_d} }\n",
    "    print \"Deep Resnet Recall\", r_d, \"Deep Resnet Precision\", p_d, \"For iteration with\", N        \n",
    "    \n",
    "    # HYBRID - RESNET\n",
    "    p_h, r_h = run(user_profiles, N, HYBRID_FEATURES_RESNET)\n",
    "    res_hybrid[N] = {'hybrid_resnet': {'recall': r_h, 'precision': p_h}}\n",
    "    print \"Hybrid Resnet Recall\", r_h, \"Hybrid Resnet Precision\", p_h, \"For iteration with\", N\n",
    "    \n",
    "    # DEEP FEATURES - BOF\n",
    "    p_d, r_d = run(user_profiles, N, DEEP_FEATURES_BOF)\n",
    "    res_deep_bof[N] = {'deep_bof': {'recall': r_d, 'precision': p_d} }\n",
    "    print \"Deep BOF Recall\", r_d, \"Deep BOF Precision\", p_d, \"For iteration with\", N        \n",
    "    \n",
    "    # HYBRID - BOF\n",
    "    p_h, r_h = run(user_profiles, N, HYBRID_FEATURES_BOF)\n",
    "    res_hybrid_bof[N] = {'hybrid_bof': {'recall': r_h, 'precision': p_h}}\n",
    "    print \"Hybrid BOF Recall\", r_h, \"Hybrid BOF Precision\", p_h, \"For iteration with\", N    \n",
    "\n",
    "    p, r, mae = recommender_classifier.recommend_random(user_profiles, N)\n",
    "    res_random[N] = {'random': {'recall': r, 'precision': p}}\n",
    "    print \"Random Recall\", r, \"Random Precision\",  p, \"Random MAE\", mae, \"For iteration with\", N\n",
    "    \n",
    "    # return_dict[N] = {'ll': {'recall': r_l, 'precision': p_l}, 'deep': {'recall': r_d, 'precision': p_d}, 'hybrid': {'recall': r_h, 'precision': p_h}, 'random': {'recall': r, 'precision': p}}    \n",
    "    end = time.time()\n",
    "    print \"Execution time\", (end - start)\n",
    "    \n",
    "#     result = {'ll': {'recall': r_l, 'precision': p_l}, 'deep': {'recall': r_d, 'precision': p_d}, 'random': {'recall': r, 'precision': p}}\n",
    "   "
   ]
  },
  {
   "cell_type": "code",
   "execution_count": 5,
   "metadata": {
    "collapsed": false
   },
   "outputs": [
    {
     "name": "stdout",
     "output_type": "stream",
     "text": [
      "Low-Level Recall 0.10809258082 Low-Level Precision 0.021618516164 For iteration with 5\n",
      "Low-Level Recall 0.0597199657806 Low-Level Precision 0.0298599828903 For iteration with 2\n",
      "Low-Level Recall 0.0875538602811 Low-Level Precision 0.0218884650703 For iteration with 4\n",
      "Low-Level Recall 0.041181041181 Low-Level Precision 0.041181041181 For iteration with 1\n",
      "Low-Level Recall 0.0832889893496 Low-Level Precision 0.0277629964499 For iteration with 3\n",
      "Deep Resnet Recall 0.0760221260221 Deep Resnet Precision 0.0380110630111 For iteration with 2\n",
      "Deep Resnet Recall 0.172773634895 Deep Resnet Precision 0.034554726979 For iteration with 5\n",
      "Deep Resnet Recall 0.161895624017 Deep Resnet Precision 0.0404739060042 For iteration with 4\n",
      "Deep Resnet Recall 0.0265271765272 Deep Resnet Precision 0.0265271765272 For iteration with 1\n",
      "Deep Resnet Recall 0.126119054907 Deep Resnet Precision 0.042039684969 For iteration with 3\n",
      "Hybrid Resnet Recall 0.0826599326599 Hybrid Resnet Precision 0.04132996633 For iteration with 2 \n",
      "\n",
      "\n",
      "Hybrid Resnet Recall 0.174610182186 Hybrid Resnet Precision 0.0349220364372 For iteration with 5 \n",
      "\n",
      "\n",
      "Hybrid Resnet Recall 0.161916030098 Hybrid Resnet Precision 0.0404790075245 For iteration with 4 \n",
      "\n",
      "\n",
      "Hybrid Resnet Recall 0.121379350167 Hybrid Resnet Precision 0.0404597833891 For iteration with 3 \n",
      "\n",
      "\n",
      "Hybrid Resnet Recall 0.0368686868687 Hybrid Resnet Precision 0.0368686868687 For iteration with 1 \n",
      "\n",
      "\n",
      "Deep Resnet Recall 0.148904854965 Deep Resnet Precision 0.0744524274827 For iteration with 2\n",
      "Deep Resnet Recall 0.283822210337 Deep Resnet Precision 0.0567644420675 For iteration with 5\n",
      "Deep Resnet Recall 0.248075857924 Deep Resnet Precision 0.0620189644811 For iteration with 4\n",
      "Deep Resnet Recall 0.0956026016632 Deep Resnet Precision 0.0956026016632 For iteration with 1\n",
      "Deep Resnet Recall 0.201029638151 Deep Resnet Precision 0.0670098793836 For iteration with 3\n",
      "Hybrid Resnet Recall 0.140150646211 Hybrid Resnet Precision 0.0700753231056 For iteration with 2 \n",
      "\n",
      "\n",
      "Random Recall 0.0295011105617 Random Precision 0.0147505552809 Random MAE 0.0 For iteration with 2\n",
      "Execution time 668.055574179\n",
      "Hybrid Resnet Recall 0.256886183401 Hybrid Resnet Precision 0.0513772366803 For iteration with 5 \n",
      "\n",
      "\n",
      "Random Recall 0.0543771043771 Random Precision 0.0108754208754 Random MAE 0.0 For iteration with 5\n",
      "Execution time 676.136450052\n",
      "Hybrid Resnet Recall 0.237112690901 Hybrid Resnet Precision 0.0592781727251 For iteration with 4 \n",
      "\n",
      "\n",
      "Random Recall 0.0670237730844 Random Precision 0.0167559432711 Random MAE 0.0 For iteration with 4\n",
      "Execution time 679.263454914\n",
      "Hybrid Resnet Recall 0.191153094941 Hybrid Resnet Precision 0.0637176983137 For iteration with 3 \n",
      "\n",
      "\n",
      "Random Recall 0.0291245791246 Random Precision 0.00970819304153 Random MAE 0.0 For iteration with 3\n",
      "Execution time 684.469340086\n",
      "Hybrid Resnet Recall 0.0871850932457 Hybrid Resnet Precision 0.0871850932457 For iteration with 1 \n",
      "\n",
      "\n",
      "Random Recall 0.0102132435466 Random Precision 0.0102132435466 Random MAE 0.0 For iteration with 1\n",
      "Execution time 684.823794127\n"
     ]
    }
   ],
   "source": [
    "iterations = range(1, 11)\n",
    "\n",
    "# experiment(1)\n",
    "manager = Manager()\n",
    "res_ll = manager.dict()\n",
    "res_deep = manager.dict()\n",
    "res_hybrid = manager.dict()\n",
    "res_deep_bof = manager.dict()\n",
    "res_hybrid_bof = manager.dict()\n",
    "res_random = manager.dict()\n",
    "\n",
    "jobs = []\n",
    "for num in iterations:\n",
    "    p = Process(target=experiment, args=(num,res_ll,res_deep,res_hybrid,res_random,res_deep_bof,res_hybrid_bof))\n",
    "    jobs.append(p)\n",
    "    p.start()\n",
    "\n",
    "for proc in jobs:\n",
    "    proc.join()\n",
    "# print return_dict.values()\n",
    "\n",
    "# p = Pool(5)\n",
    "# print(p.map(experiment, [1, 2, 3, 4, 5, 6, 7, 8, 9, 10, 11, 12, 13, 14, 15, 16, 17, 18, 19, 20]))"
   ]
  },
  {
   "cell_type": "code",
   "execution_count": 17,
   "metadata": {
    "collapsed": false
   },
   "outputs": [
    {
     "name": "stdout",
     "output_type": "stream",
     "text": [
      "[0.04118104118104118, 0.059719965780571836, 0.08328898934959539, 0.08755386028113299, 0.10809258081985354]\n",
      "[0.026527176527176528, 0.07602212602212602, 0.1261190549069337, 0.16189562401683616, 0.172773634894847]\n",
      "Entry 1 {'ll': {'recall': 0.04118104118104118, 'precision': 0.04118104118104118}}\n",
      "Entry 2 {'ll': {'recall': 0.059719965780571836, 'precision': 0.029859982890285918}}\n",
      "Entry 3 {'ll': {'recall': 0.08328898934959539, 'precision': 0.027762996449865136}}\n",
      "Entry 4 {'ll': {'recall': 0.08755386028113299, 'precision': 0.021888465070283247}}\n",
      "Entry 5 {'ll': {'recall': 0.10809258081985354, 'precision': 0.02161851616397071}}\n"
     ]
    }
   ],
   "source": [
    "low_level_recall = [item['ll']['recall'] for item in res_ll.values()]\n",
    "deep_recall = [item['deep_resnet']['recall'] for item in res_deep.values()]\n",
    "hybrid_recall = [item['hybrid_resnet']['recall'] for item in res_hybrid.values()]\n",
    "deep_bof_recall = [item['deep_bof']['recall'] for item in res_deep_bof.values()]\n",
    "hybrid_bof_recall = [item['hybrid_bof']['recall'] for item in res_hybrid_bof.values()]\n",
    "random_recall = [item['random']['recall'] for item in res_random.values()]\n",
    "\n",
    "print low_level_recall\n",
    "print deep_recall\n",
    "# print low_level_recall\n",
    "\n",
    "for key, value in res_ll.items():\n",
    "     print \"Entry\", key, value\n",
    "\n",
    "with open('results_testing.txt', 'a') as resfile:\n",
    "    for key, value in res_ll.items():\n",
    "        resfile.write(str(key)+str(value)+\"\\n\")\n",
    "    # for key, value in res_deep.items():\n",
    "    #     resfile.write(str(key) + str(value))\n",
    "    # for key, value in res_hybrid.items():\n",
    "    #     resfile.write(str(key) + str(value))\n",
    "    for key, value in res_deep_bof.items():\n",
    "        resfile.write(str(key) + str(value)+\"\\n\")\n",
    "    for key, value in res_hybrid_bof.items():\n",
    "        resfile.write(str(key) + str(value)+\"\\n\")\n",
    "    for key, value in res_random.items():\n",
    "        resfile.write(str(key) + str(value)+\"\\n\")"
   ]
  },
  {
   "cell_type": "code",
   "execution_count": 9,
   "metadata": {
    "collapsed": false
   },
   "outputs": [
    {
     "data": {
      "image/png": "[encoded data removed]",
      "text/plain": [
       "<matplotlib.figure.Figure at 0x7f64ccd42b10>"
      ]
     },
     "metadata": {},
     "output_type": "display_data"
    }
   ],
   "source": [
    "plt.plot(iterations, low_level_recall, 'r-', iterations, deep_recall, 'g-', iterations, hybrid_recall, 'b-', iterations, deep_bof_recall, 'c-', iterations, hybrid_bof_recall, 'k-', iterations, random_recall, 'y-')\n",
    "plt.ylabel('Recall')\n",
    "plt.xlabel('Iterations')\n",
    "plt.show()\n",
    "\n",
    "iterations = range(1, 6)\n",
    "plt.plot(iterations, low_level_recall, 'r-', iterations, deep_recall, 'g-', iterations, hybrid_recall, 'b-', iterations, deep_bof_recall, 'c-', iterations, hybrid_bof_recall, 'k-', iterations, random_recall, 'y-')\n",
    "plt.ylabel('Recall')\n",
    "plt.xlabel('Iterations')\n",
    "plt.show()\n",
    "\n",
    "# fig, ax = plt.subplots()\n",
    "\n",
    "# # Be sure to only pick integer tick locations.\n",
    "# for axis in [ax.xaxis, ax.yaxis]:\n",
    "#     axis.set_major_locator(ticker.MaxNLocator(integer=True))\n",
    "\n",
    "# # Plot anything (note the non-integer min-max values)...\n",
    "# x = np.linspace(-0.1, np.pi, 100)\n",
    "# ax.plot(range(1,6), low_level_recall, 'r--', range(1,6), deep_recall, 'g--', range(1,6), hybrid_recall, 'b--', range(1,6), random_recall, 'y--')\n",
    "\n",
    "# # Just for appearance's sake\n",
    "# ax.margins(0.05)\n",
    "# ax.axis('tight')\n",
    "# fig.tight_layout()\n",
    "\n",
    "# plt.show()\n"
   ]
  },
  {
   "cell_type": "code",
   "execution_count": null,
   "metadata": {
    "collapsed": true
   },
   "outputs": [],
   "source": []
  }
 ],
 "metadata": {
  "kernelspec": {
   "display_name": "Python 2",
   "language": "python",
   "name": "python2"
  },
  "language_info": {
   "codemirror_mode": {
    "name": "ipython",
    "version": 2
   },
   "file_extension": ".py",
   "mimetype": "text/x-python",
   "name": "python",
   "nbconvert_exporter": "python",
   "pygments_lexer": "ipython2",
   "version": "2.7.6"
  }
 },
 "nbformat": 4,
 "nbformat_minor": 0
}
