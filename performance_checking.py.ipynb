{
 "cells": [
  {
   "cell_type": "code",
   "execution_count": 1,
   "metadata": {
    "collapsed": true
   },
   "outputs": [],
   "source": [
    "# necessary modules\n",
    "import sqlite3\n",
    "import utils\n",
    "import recommender_classifier\n",
    "import evaluation\n",
    "import time\n",
    "import numpy as np\n",
    "from sklearn import svm\n",
    "from sklearn.metrics import mean_absolute_error\n",
    "from multiprocessing import Pool"
   ]
  },
  {
   "cell_type": "code",
   "execution_count": 2,
   "metadata": {
    "collapsed": false
   },
   "outputs": [
    {
     "name": "stdout",
     "output_type": "stream",
     "text": [
      "100\n"
     ]
    }
   ],
   "source": [
    "# load random users and feature vectors\n",
    "conn = sqlite3.connect('database.db')\n",
    "Users = utils.selectRandomUsers(conn)\n",
    "LOW_LEVEL_FEATURES, DEEP_FEATURES, HYBRID_FEATURES = utils.extract_features()\n",
    "USER_TFIDF_FEATURES, MOVIE_TFIDF_FEATURES = utils.extract_tfidf_features()\n",
    "\n",
    "print len(Users)\n",
    "\n",
    "user_profiles = recommender_classifier.build_user_profiles(conn, Users)"
   ]
  },
  {
   "cell_type": "code",
   "execution_count": 3,
   "metadata": {
    "collapsed": false
   },
   "outputs": [],
   "source": [
    "def run(user_profiles, N, feature_vector, feature_vector2=None):\n",
    "\n",
    "    conn = sqlite3.connect('database.db')\n",
    "    \n",
    "    SumRecall, SumPrecision = 0, 0\n",
    "    \n",
    "    for user, profile in user_profiles.iteritems():                \n",
    "        \n",
    "        if feature_vector2 is not None:\n",
    "            if np.sum(feature_vector[user]) == 0:\n",
    "                print \"Blank user profile\", user\n",
    "                continue\n",
    "        \n",
    "        hits = 0\n",
    "        \n",
    "        predictions = recommender_classifier.get_predict_collaborative_filtering(conn, profile, feature_vector, feature_vector2)\n",
    "        # print \"Predictions\", sorted(predictions, key=lambda tup: tup[2], reverse=True)\n",
    "        \n",
    "        for elite_movie in profile['datasets']['elite_test']:\n",
    "                        \n",
    "            if feature_vector is list and elite_movie[0] not in feature_vector:\n",
    "                continue\n",
    "                \n",
    "            # Predict to the user movie and to random movies that the user did not rated\n",
    "            # print predictions            \n",
    "            elite_prediction = recommender_classifier.get_prediction_elite(conn, elite_movie, profile, feature_vector, feature_vector2)\n",
    "            all_predictions = predictions[:]\n",
    "            all_predictions.append(elite_prediction)\n",
    "            \n",
    "            # print \"Elite Movie\", elite_movie, elite_prediction\n",
    "            \n",
    "            hits += recommender_classifier.count_hit(all_predictions, elite_movie, N)\n",
    "        try:\n",
    "            recall = hits / float(len(profile['datasets']['elite_test']))\n",
    "            SumRecall += recall\n",
    "            SumPrecision += (recall / float(N))\n",
    "        except ZeroDivisionError:\n",
    "            continue\n",
    "        # print \"Size is\", len(predictions)\n",
    "        # print \"Predictions\", sorted(predictions, key=lambda tup: tup[2], reverse=True)\n",
    "\n",
    "    size = len(user_profiles)\n",
    "    avgRecall = utils.evaluateAverage(SumRecall, size)\n",
    "    avgPrecision = utils.evaluateAverage(SumPrecision, size)\n",
    "\n",
    "    return avgPrecision, avgRecall"
   ]
  },
  {
   "cell_type": "code",
   "execution_count": 6,
   "metadata": {
    "collapsed": false
   },
   "outputs": [],
   "source": [
    "# def experiment(N, user_profiles_low_level, LOW_LEVEL_FEATURES, user_profiles_deep, DEEP_FEATURES):\n",
    "def experiment(N):\n",
    "    \n",
    "    global user_profiles, LOW_LEVEL_FEATURES, DEEP_FEATURES, HYBRID_FEATURES, USER_TFIDF_FEATURES, MOVIE_TFIDF_FEATURES\n",
    "            \n",
    "    result = {}\n",
    "    start = time.time()\n",
    "    \n",
    "    # Tag-based\n",
    "    # p_t, r_t = run(user_profiles, N, USER_TFIDF_FEATURES, MOVIE_TFIDF_FEATURES)\n",
    "    # print \"Tag-based Recall\", r_t, \"Tag-based Precision\", p_t, \"For iteration with\", N\n",
    "    \n",
    "    # LOW LEVEL FEATURES check precision, recall and mae\n",
    "    p_l, r_l = run(user_profiles, N, LOW_LEVEL_FEATURES)\n",
    "    print \"Low-Level Recall\", r_l, \"Low-Level Precision\", p_l, \"For iteration with\", N\n",
    "    \n",
    "    # end = time.time()\n",
    "    # print \"Execution time\", (end - start)\n",
    "#     result[N] = {'ll': {'recall': r_l, 'precision': p_l}}\n",
    "\n",
    "    # start = time.time()\n",
    "    # DEEP FEATURES check precision, recall and mae\n",
    "    p_d, r_d = run(user_profiles, N, DEEP_FEATURES)\n",
    "    print \"Deep Recall\", r_d, \"Deep Precision\", p_d, \"For iteration with\", N\n",
    "    end = time.time()\n",
    "    print \"Execution time\", (end - start)\n",
    "#     result[N] = {'deep': {'recall': r_d, 'precision': p_d}}\n",
    "    \n",
    "    # HYBRID\n",
    "#     p_d, r_d = run(user_profiles_deep, N, HYBRID_FEATURES)\n",
    "#     p_d, r_d = run(user_profiles, N, HYBRID_FEATURES)\n",
    "#     print \"Hybrid Recall\", r_d, \"Hybrid Precision\", p_d, \"For iteration with\", N, \"\\n\\n\"\n",
    "#     result[N] = {'hybrid': {'recall': r_d, 'precision': p_d}}\n",
    "\n",
    "    p, r, mae = recommender_classifier.recommend_random(user_profiles, N)\n",
    "    print \"Random Recall\", r, \"Random Precision\",  p, \"Random MAE\", mae, \"For iteration with\", N\n",
    "    \n",
    "#     result = {'ll': {'recall': r_l, 'precision': p_l}, 'deep': {'recall': r_d, 'precision': p_d}, 'random': {'recall': r, 'precision': p}}\n",
    "   "
   ]
  },
  {
   "cell_type": "code",
   "execution_count": 7,
   "metadata": {
    "collapsed": false
   },
   "outputs": [
    {
     "name": "stdout",
     "output_type": "stream",
     "text": [
      "Low-Level Recall 0.245776149776 Low-Level Precision 0.122888074888 For iteration with 2\n",
      "Low-Level Recall 0.164506308506 Low-Level Precision 0.164506308506 For iteration with 1\n",
      "Low-Level Recall 0.283109483109 Low-Level Precision 0.0943698277032 For iteration with 3\n",
      "Low-Level Recall 0.367384615385 Low-Level Precision 0.0734769230769 For iteration with 5\n",
      "Low-Level Recall 0.318368742369 Low-Level Precision 0.0795921855922 For iteration with 4\n",
      "Deep Recall 0.210348392348 Deep Precision 0.210348392348 For iteration with 1\n",
      "Execution time 523.05669117\n",
      "Random Recall 0.0133333333333 Random Precision 0.0133333333333 Random MAE 0.0 For iteration with 1\n",
      "Deep Recall 0.34238990639 Deep Precision 0.171194953195 For iteration with 2\n",
      "Execution time 526.827446938\n",
      "Deep Recall 0.504061050061 Deep Precision 0.100812210012 For iteration with 5\n",
      "Execution time 527.133561134\n",
      "Random Recall 0.00666666666667 Random Precision 0.00333333333333 Random MAE 0.0 For iteration with 2\n",
      "Random Recall 0.0314814814815 Random Precision 0.0062962962963 Random MAE 0.0 For iteration with 5\n",
      "Deep Recall 0.43585022385 Deep Precision 0.14528340795 For iteration with 3\n",
      "Execution time 529.527770996\n",
      "Random Recall 0.02 Random Precision 0.00666666666667 Random MAE 0.0 For iteration with 3\n",
      "Deep Recall 0.468220594221 Deep Precision 0.117055148555 For iteration with 4\n",
      "Execution time 531.963037014\n",
      "Random Recall 0.0333333333333 Random Precision 0.00833333333333 Random MAE 0.0 For iteration with 4\n",
      "[None, None, None, None, None]\n"
     ]
    }
   ],
   "source": [
    "# q = Queue()\n",
    "# N = 10\n",
    "# start = time.time()\n",
    "# experiment(N, user_profiles, LOW_LEVEL_FEATURES, DEEP_FEATURES, HYBRID_FEATURES)\n",
    "# procs = [Process(target=experiment, args=(N, user_profiles, LOW_LEVEL_FEATURES, DEEP_FEATURES, HYBRID_FEATURES,)) for i in range(1)]\n",
    "# for p in procs: p.start()\n",
    "# for p in procs: p.join()\n",
    "# end = time.time()\n",
    "# print(end - start)\n",
    "\n",
    "#     p = Process(target=experiment, args=(q, N, user_profiles_low_level, LOW_LEVEL_FEATURES, user_profiles_deep, DEEP_FEATURES, Users,))\n",
    "#     p.start()\n",
    "#     N += 1\n",
    "# print q.get()\n",
    "# p.join()\n",
    "# experiment(1)\n",
    "p = Pool(5)\n",
    "print(p.map(experiment, [1, 2, 3, 4, 5, 6, 7, 8, 9, 10]))"
   ]
  },
  {
   "cell_type": "code",
   "execution_count": null,
   "metadata": {
    "collapsed": true
   },
   "outputs": [],
   "source": []
  }
 ],
 "metadata": {
  "kernelspec": {
   "display_name": "Python 2",
   "language": "python",
   "name": "python2"
  },
  "language_info": {
   "codemirror_mode": {
    "name": "ipython",
    "version": 2
   },
   "file_extension": ".py",
   "mimetype": "text/x-python",
   "name": "python",
   "nbconvert_exporter": "python",
   "pygments_lexer": "ipython2",
   "version": "2.7.6"
  }
 },
 "nbformat": 4,
 "nbformat_minor": 0
}
