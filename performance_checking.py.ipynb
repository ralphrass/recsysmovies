{
 "cells": [
  {
   "cell_type": "code",
   "execution_count": 2,
   "metadata": {
    "collapsed": true
   },
   "outputs": [],
   "source": [
    "# necessary modules\n",
    "import sqlite3\n",
    "import utils\n",
    "import recommender_classifier\n",
    "import time\n",
    "import numpy as np\n",
    "# import matplotlib.pyplot as plt\n",
    "from multiprocessing import Process, Manager"
   ]
  },
  {
   "cell_type": "code",
   "execution_count": 3,
   "metadata": {
    "collapsed": false
   },
   "outputs": [],
   "source": [
    "# load random users and feature vectors\n",
    "conn = sqlite3.connect('database.db')\n",
    "LOW_LEVEL_FEATURES, DEEP_FEATURES_RESNET, HYBRID_FEATURES_RESNET = utils.extract_features()\n",
    "foo, DEEP_FEATURES_BOF, HYBRID_FEATURES_BOF = utils.extract_features('bof_128.bin')\n",
    "# USER_TFIDF_FEATURES, MOVIE_TFIDF_FEATURES = utils.extract_tfidf_features()"
   ]
  },
  {
   "cell_type": "code",
   "execution_count": 4,
   "metadata": {
    "collapsed": false
   },
   "outputs": [
    {
     "name": "stdout",
     "output_type": "stream",
     "text": [
      "138\n"
     ]
    }
   ],
   "source": [
    "Users = utils.selectRandomUsers(conn, 0.001)\n",
    "print len(Users)\n",
    "user_profiles_small = recommender_classifier.build_user_profiles(conn, Users)"
   ]
  },
  {
   "cell_type": "code",
   "execution_count": 5,
   "metadata": {
    "collapsed": false
   },
   "outputs": [
    {
     "name": "stdout",
     "output_type": "stream",
     "text": [
      "1384\n"
     ]
    }
   ],
   "source": [
    "Users = utils.selectRandomUsers(conn, 0.01)\n",
    "print len(Users)\n",
    "user_profiles_average = recommender_classifier.build_user_profiles(conn, Users)"
   ]
  },
  {
   "cell_type": "code",
   "execution_count": null,
   "metadata": {
    "collapsed": false
   },
   "outputs": [
    {
     "name": "stdout",
     "output_type": "stream",
     "text": [
      "13844\n"
     ]
    }
   ],
   "source": [
    "Users = utils.selectRandomUsers(conn, 0.1)\n",
    "print len(Users)\n",
    "user_profiles_big = recommender_classifier.build_user_profiles(conn, Users)"
   ]
  },
  {
   "cell_type": "code",
   "execution_count": null,
   "metadata": {
    "collapsed": true
   },
   "outputs": [],
   "source": [
    "Users = utils.selectRandomUsers(conn, 1)\n",
    "print len(Users)\n",
    "user_profiles_full = recommender_classifier.build_user_profiles(conn, Users)"
   ]
  },
  {
   "cell_type": "code",
   "execution_count": 6,
   "metadata": {
    "collapsed": false
   },
   "outputs": [],
   "source": [
    "def run(user_profiles, N, feature_vector, feature_vector2=None):\n",
    "\n",
    "    conn = sqlite3.connect('database.db')\n",
    "    \n",
    "    SumRecall, SumPrecision = 0, 0\n",
    "    \n",
    "    for user, profile in user_profiles.iteritems():                \n",
    "        \n",
    "        if feature_vector2 is not None:\n",
    "            if np.sum(feature_vector[user]) == 0:\n",
    "                print \"Blank user profile\", user\n",
    "                continue\n",
    "        \n",
    "        hits = 0\n",
    "        \n",
    "        predictions = recommender_classifier.get_predict_collaborative_filtering(conn, profile, feature_vector, feature_vector2)\n",
    "        # print \"Predictions\", sorted(predictions, key=lambda tup: tup[2], reverse=True)\n",
    "        \n",
    "        for elite_movie in profile['datasets']['elite_test']:\n",
    "                        \n",
    "            if feature_vector is list and elite_movie[0] not in feature_vector:\n",
    "                continue\n",
    "                \n",
    "            # Predict to the user movie and to random movies that the user did not rated\n",
    "            # print predictions            \n",
    "            elite_prediction = recommender_classifier.get_prediction_elite(conn, elite_movie, profile, feature_vector, feature_vector2)\n",
    "            all_predictions = predictions[:]\n",
    "            all_predictions.append(elite_prediction)\n",
    "            \n",
    "            # print \"Elite Movie\", elite_movie, elite_prediction\n",
    "            \n",
    "            hits += recommender_classifier.count_hit(all_predictions, elite_movie, N)\n",
    "        try:\n",
    "            recall = hits / float(len(profile['datasets']['elite_test']))\n",
    "            SumRecall += recall\n",
    "            SumPrecision += (recall / float(N))\n",
    "        except ZeroDivisionError:\n",
    "            continue\n",
    "        # print \"Size is\", len(predictions)\n",
    "        # print \"Predictions\", sorted(predictions, key=lambda tup: tup[2], reverse=True)\n",
    "\n",
    "    size = len(user_profiles)\n",
    "    avgRecall = utils.evaluateAverage(SumRecall, size)\n",
    "    avgPrecision = utils.evaluateAverage(SumPrecision, size)\n",
    "\n",
    "    return avgPrecision, avgRecall"
   ]
  },
  {
   "cell_type": "code",
   "execution_count": 7,
   "metadata": {
    "collapsed": false
   },
   "outputs": [],
   "source": [
    "# def experiment(N, user_profiles_low_level, LOW_LEVEL_FEATURES, user_profiles_deep, DEEP_FEATURES):\n",
    "def experiment(N, user_profiles, res_ll,res_random,res_deep_bof,res_hybrid_bof):\n",
    "    \n",
    "    global LOW_LEVEL_FEATURES, DEEP_FEATURES_BOF, HYBRID_FEATURES_BOF\n",
    "    \n",
    "    result = {}\n",
    "    start = time.time()\n",
    "    \n",
    "    # Tag-based\n",
    "    # p_t, r_t = run(user_profiles, N, USER_TFIDF_FEATURES, MOVIE_TFIDF_FEATURES)\n",
    "    # print \"Tag-based Recall\", r_t, \"Tag-based Precision\", p_t, \"For iteration with\", N\n",
    "    \n",
    "    # LOW LEVEL FEATURES check precision, recall and mae\n",
    "    p_l, r_l = run(user_profiles, N, LOW_LEVEL_FEATURES)\n",
    "    res_ll[N] = {'ll': {'recall': r_l, 'precision': p_l} }\n",
    "    print \"Low-Level Recall\", r_l, \"Low-Level Precision\", p_l, \"For iteration with\", N\n",
    "        \n",
    "    # DEEP FEATURES - BOF\n",
    "    p_d, r_d = run(user_profiles, N, DEEP_FEATURES_BOF)\n",
    "    res_deep_bof[N] = {'deep_bof': {'recall': r_d, 'precision': p_d} }\n",
    "    print \"Deep BOF Recall\", r_d, \"Deep BOF Precision\", p_d, \"For iteration with\", N        \n",
    "    \n",
    "    # HYBRID - BOF\n",
    "    p_h, r_h = run(user_profiles, N, HYBRID_FEATURES_BOF)\n",
    "    res_hybrid_bof[N] = {'hybrid_bof': {'recall': r_h, 'precision': p_h}}\n",
    "    print \"Hybrid BOF Recall\", r_h, \"Hybrid BOF Precision\", p_h, \"For iteration with\", N    \n",
    "\n",
    "    p, r, mae = recommender_classifier.recommend_random(user_profiles, N)\n",
    "    res_random[N] = {'random': {'recall': r, 'precision': p}}\n",
    "    print \"Random Recall\", r, \"Random Precision\",  p, \"Random MAE\", mae, \"For iteration with\", N\n",
    "    \n",
    "    # return_dict[N] = {'ll': {'recall': r_l, 'precision': p_l}, 'deep': {'recall': r_d, 'precision': p_d}, 'hybrid': {'recall': r_h, 'precision': p_h}, 'random': {'recall': r, 'precision': p}}    \n",
    "    end = time.time()\n",
    "    print \"Execution time\", (end - start)\n",
    "    \n",
    "#     result = {'ll': {'recall': r_l, 'precision': p_l}, 'deep': {'recall': r_d, 'precision': p_d}, 'random': {'recall': r, 'precision': p}}\n",
    "   "
   ]
  },
  {
   "cell_type": "code",
   "execution_count": 8,
   "metadata": {
    "collapsed": false
   },
   "outputs": [
    {
     "name": "stdout",
     "output_type": "stream",
     "text": [
      "Low-Level Recall 0.0192035905271 Low-Level Precision 0.00960179526356 For iteration with 2\n",
      "Low-Level Recall 0.0106251591546 Low-Level Precision 0.0106251591546 For iteration with 1\n",
      "Low-Level Recall 0.0257395382395 Low-Level Precision 0.00857984607985 For iteration with 3\n",
      "Low-Level Recall 0.0539258127493 Low-Level Precision 0.0134814531873 For iteration with 4\n",
      "Low-Level Recall 0.079252610135 Low-Level Precision 0.015850522027 For iteration with 5\n",
      "Deep BOF Recall 0.104980477039 Deep BOF Precision 0.0524902385197 For iteration with 2\n",
      "Deep BOF Recall 0.129038989333 Deep BOF Precision 0.0430129964444 For iteration with 3\n",
      "Deep BOF Recall 0.0322680587386 Deep BOF Precision 0.0322680587386 For iteration with 1\n",
      "Deep BOF Recall 0.150716549246 Deep BOF Precision 0.0376791373115 For iteration with 4\n",
      "Deep BOF Recall 0.168200209377 Deep BOF Precision 0.0336400418753 For iteration with 5\n",
      "Hybrid BOF Recall 0.0796536796537 Hybrid BOF Precision 0.0398268398268 For iteration with 2\n",
      "Random Recall 0.0162581699346 Random Precision 0.00812908496732 Random MAE 0.0 For iteration with 2\n",
      "Execution time 445.33813405\n",
      "Hybrid BOF Recall 0.120285487933 Hybrid BOF Precision 0.0400951626442 For iteration with 3\n",
      "Random Recall 0.0409784115666 Random Precision 0.0136594705222 Random MAE 0.0 For iteration with 3\n",
      "Execution time 446.573292971\n",
      "Hybrid BOF Recall 0.0306340718105 Hybrid BOF Precision 0.0306340718105 For iteration with 1\n",
      "Random Recall 0.00385154061625 Random Precision 0.00385154061625 Random MAE 0.0 For iteration with 1\n",
      "Execution time 455.859721899\n",
      "Hybrid BOF Recall 0.165422431599 Hybrid BOF Precision 0.0330844863198 For iteration with 5\n",
      "Random Recall 0.0604617604618 Random Precision 0.0120923520924 Random MAE 0.0 For iteration with 5\n",
      "Execution time 465.39951396\n",
      "Hybrid BOF Recall 0.152420564185 Hybrid BOF Precision 0.0381051410463 For iteration with 4\n",
      "Random Recall 0.0330808080808 Random Precision 0.0082702020202 Random MAE 0.0 For iteration with 4\n",
      "Execution time 467.894448042\n"
     ]
    }
   ],
   "source": [
    "iterations = range(1, 6)\n",
    "user_profiles = user_profiles_small\n",
    "\n",
    "# experiment(1)\n",
    "manager = Manager()\n",
    "res_ll = manager.dict()\n",
    "# res_deep = manager.dict()\n",
    "# res_hybrid = manager.dict()\n",
    "res_deep_bof = manager.dict()\n",
    "res_hybrid_bof = manager.dict()\n",
    "res_random = manager.dict()\n",
    "\n",
    "jobs = []\n",
    "for num in iterations:\n",
    "    p = Process(target=experiment, args=(num,user_profiles, res_ll,res_random,res_deep_bof,res_hybrid_bof))\n",
    "    jobs.append(p)\n",
    "    p.start()\n",
    "\n",
    "for proc in jobs:\n",
    "    proc.join()\n",
    "# print return_dict.values()\n",
    "\n",
    "# p = Pool(5)\n",
    "# print(p.map(experiment, [1, 2, 3, 4, 5, 6, 7, 8, 9, 10, 11, 12, 13, 14, 15, 16, 17, 18, 19, 20]))"
   ]
  },
  {
   "cell_type": "code",
   "execution_count": null,
   "metadata": {
    "collapsed": false
   },
   "outputs": [],
   "source": [
    "low_level_recall = [item['ll']['recall'] for item in res_ll.values()]\n",
    "deep_recall = [item['deep_resnet']['recall'] for item in res_deep.values()]\n",
    "hybrid_recall = [item['hybrid_resnet']['recall'] for item in res_hybrid.values()]\n",
    "deep_bof_recall = [item['deep_bof']['recall'] for item in res_deep_bof.values()]\n",
    "hybrid_bof_recall = [item['hybrid_bof']['recall'] for item in res_hybrid_bof.values()]\n",
    "random_recall = [item['random']['recall'] for item in res_random.values()]\n",
    "\n",
    "# print low_level_recall\n",
    "# print deep_recall\n",
    "# print low_level_recall\n",
    "\n",
    "# for key, value in res_ll.items():\n",
    "#      print \"Entry\", key, value\n",
    "\n",
    "with open('results_testing.txt', 'a') as resfile:\n",
    "    for key, value in res_ll.items():\n",
    "        resfile.write(str(key)+str(value)+\"\\n\")\n",
    "    for key, value in res_deep_bof.items():\n",
    "        resfile.write(str(key) + str(value)+\"\\n\")\n",
    "    for key, value in res_hybrid_bof.items():\n",
    "        resfile.write(str(key) + str(value)+\"\\n\")\n",
    "    for key, value in res_random.items():\n",
    "        resfile.write(str(key) + str(value)+\"\\n\")"
   ]
  },
  {
   "cell_type": "code",
   "execution_count": null,
   "metadata": {
    "collapsed": false
   },
   "outputs": [],
   "source": [
    "plt.plot(iterations, low_level_recall, 'r-', iterations, deep_recall, 'g-', iterations, hybrid_recall, 'b-', iterations, deep_bof_recall, 'c-', iterations, hybrid_bof_recall, 'k-', iterations, random_recall, 'y-')\n",
    "plt.ylabel('Recall')\n",
    "plt.xlabel('Iterations')\n",
    "plt.show()\n",
    "\n",
    "iterations = range(1, 6)\n",
    "plt.plot(iterations, low_level_recall, 'r-', iterations, deep_recall, 'g-', iterations, hybrid_recall, 'b-', iterations, deep_bof_recall, 'c-', iterations, hybrid_bof_recall, 'k-', iterations, random_recall, 'y-')\n",
    "plt.ylabel('Recall')\n",
    "plt.xlabel('Iterations')\n",
    "plt.show()\n",
    "\n",
    "# fig, ax = plt.subplots()\n",
    "\n",
    "# # Be sure to only pick integer tick locations.\n",
    "# for axis in [ax.xaxis, ax.yaxis]:\n",
    "#     axis.set_major_locator(ticker.MaxNLocator(integer=True))\n",
    "\n",
    "# # Plot anything (note the non-integer min-max values)...\n",
    "# x = np.linspace(-0.1, np.pi, 100)\n",
    "# ax.plot(range(1,6), low_level_recall, 'r--', range(1,6), deep_recall, 'g--', range(1,6), hybrid_recall, 'b--', range(1,6), random_recall, 'y--')\n",
    "\n",
    "# # Just for appearance's sake\n",
    "# ax.margins(0.05)\n",
    "# ax.axis('tight')\n",
    "# fig.tight_layout()\n",
    "\n",
    "# plt.show()\n"
   ]
  },
  {
   "cell_type": "code",
   "execution_count": null,
   "metadata": {
    "collapsed": true
   },
   "outputs": [],
   "source": []
  }
 ],
 "metadata": {
  "kernelspec": {
   "display_name": "Python 2",
   "language": "python",
   "name": "python2"
  },
  "language_info": {
   "codemirror_mode": {
    "name": "ipython",
    "version": 2
   },
   "file_extension": ".py",
   "mimetype": "text/x-python",
   "name": "python",
   "nbconvert_exporter": "python",
   "pygments_lexer": "ipython2",
   "version": "2.7.6"
  }
 },
 "nbformat": 4,
 "nbformat_minor": 0
}
