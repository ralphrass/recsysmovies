{
 "cells": [
  {
   "cell_type": "code",
   "execution_count": 1,
   "metadata": {
    "collapsed": true
   },
   "outputs": [],
   "source": [
    "# necessary modules\n",
    "import sqlite3\n",
    "import utils\n",
    "import recommender_classifier\n",
    "import evaluation\n",
    "from sklearn import svm\n",
    "from multiprocessing import Process, Queue"
   ]
  },
  {
   "cell_type": "code",
   "execution_count": 2,
   "metadata": {
    "collapsed": false
   },
   "outputs": [
    {
     "name": "stdout",
     "output_type": "stream",
     "text": [
      "133\n"
     ]
    }
   ],
   "source": [
    "# load random users and feature vectors\n",
    "conn = sqlite3.connect('database.db')\n",
    "Users = utils.selectRandomUsers(conn)\n",
    "\n",
    "LOW_LEVEL_FEATURES, DEEP_FEATURES, HYBRID_FEATURES = utils.extract_features()\n",
    "\n",
    "print len(Users)"
   ]
  },
  {
   "cell_type": "code",
   "execution_count": 3,
   "metadata": {
    "collapsed": false
   },
   "outputs": [],
   "source": [
    "def run(user_profiles, N, featureVector):\n",
    "\n",
    "    conn = sqlite3.connect('database.db')\n",
    "    \n",
    "    SumRecall, SumPrecision = 0, 0\n",
    "    \n",
    "    for user, profile in user_profiles.iteritems():\n",
    "        hits = 0\n",
    "        \n",
    "        for eliteMovie in profile['datasets']['elite_test']:\n",
    "\n",
    "            if eliteMovie[0] not in featureVector:\n",
    "                continue\n",
    "                \n",
    "            # Predict to the user movie and to random movies that the user did not rated\n",
    "            predictions = recommender_classifier.get_predict(conn, eliteMovie, user, profile['model'], featureVector)\n",
    "            # print predictions\n",
    "            hits += recommender_classifier.count_hit(predictions, eliteMovie, N)\n",
    "        try:\n",
    "            recall = hits / float(len(profile['datasets']['elite_test']))\n",
    "            SumRecall += recall\n",
    "            SumPrecision += (recall / float(N))\n",
    "        except ZeroDivisionError:\n",
    "            continue\n",
    "\n",
    "    size = len(user_profiles)\n",
    "    avgRecall = utils.evaluateAverage(SumRecall, size)\n",
    "    avgPrecision = utils.evaluateAverage(SumPrecision, size)\n",
    "\n",
    "    return avgPrecision, avgRecall"
   ]
  },
  {
   "cell_type": "code",
   "execution_count": 4,
   "metadata": {
    "collapsed": true
   },
   "outputs": [],
   "source": [
    "def train_user_profile_svm_regressor(conn, user_datasets, feature_vector):\n",
    "    \n",
    "    user_profiles = {}\n",
    "    sum_mae = 0\n",
    "\n",
    "    for user, datasets in user_datasets.iteritems():     \n",
    "        \n",
    "        userInstances, userValues = utils.getUserInstances(datasets['train'], feature_vector)\n",
    "        \n",
    "        clf = svm.SVR(kernel='rbf')\n",
    "        clf.fit(userInstances, userValues)\n",
    "        \n",
    "        user_profiles[user] = {'model': clf.predict, 'datasets': datasets}\n",
    "        # userInstances, userValues = utils.getUserInstances(full_test_set, LOW_LEVEL_FEATURES)\n",
    "\n",
    "        # check the model quality using user's full test set (ratings not used for the model)\n",
    "        predictions = [(movie[2], clf.predict([feature_vector[movie[0]]])) for movie in full_test_set]\n",
    "        # print predictions\n",
    "        sum_mae += evaluation.evaluateMAE(conn, user, predictions, 0, 1)\n",
    "\n",
    "    mae = utils.evaluateAverage(sum_mae, len(user_datasets))\n",
    "    return user_profiles, mae"
   ]
  },
  {
   "cell_type": "code",
   "execution_count": 5,
   "metadata": {
    "collapsed": false
   },
   "outputs": [],
   "source": [
    "# split users ratings into training, test and elite test (only high ratings) datasets\n",
    "user_datasets = {}\n",
    "\n",
    "for user in Users:\n",
    "    \n",
    "    userMoviesTraining, userMoviesTest, full_test_set = utils.getUserTrainingTestMovies(conn, user[0])\n",
    "    \n",
    "    if len(userMoviesTest) == 0:\n",
    "        continue\n",
    "        \n",
    "    user_datasets[user[0]] = {'train': userMoviesTraining, 'elite_test': userMoviesTest, 'test': full_test_set}\n",
    "\n",
    "# print \"Datasets\", user_datasets, \"\\n\\n\""
   ]
  },
  {
   "cell_type": "code",
   "execution_count": 6,
   "metadata": {
    "collapsed": false
   },
   "outputs": [
    {
     "name": "stdout",
     "output_type": "stream",
     "text": [
      "Low-Level Features MAE 0.709768660601\n",
      "Deep Features MAE 0.505449651276\n"
     ]
    }
   ],
   "source": [
    "# LOW LEVEL FEATURES preprocess users profiles - Support Vector Machine Regressor\n",
    "user_profiles_low_level, mae = train_user_profile_svm_regressor(conn, user_datasets, LOW_LEVEL_FEATURES)\n",
    "print \"Low-Level Features MAE\", mae\n",
    "\n",
    "# DEEP FEATURES preprocess users profiles - SVM\n",
    "user_profiles_deep, mae = train_user_profile_svm_regressor(conn, user_datasets, DEEP_FEATURES)\n",
    "print \"Deep Features MAE\", mae"
   ]
  },
  {
   "cell_type": "code",
   "execution_count": 7,
   "metadata": {
    "collapsed": false
   },
   "outputs": [],
   "source": [
    "def experiment(v, lock, N, user_profiles_low_level, LOW_LEVEL_FEATURES, user_profiles_deep, DEEP_FEATURES, Users):\n",
    "        \n",
    "    i += 1    \n",
    "    \n",
    "    result = {}\n",
    "\n",
    "    # LOW LEVEL FEATURES check precision, recall and mae\n",
    "    p_l, r_l = run(user_profiles_low_level, N, LOW_LEVEL_FEATURES)\n",
    "    print \"Low-Level Recall\", r_l, \"Low-Level Precision\", p_l, \"For iteration with\", N\n",
    "    result[N] = {'ll': {'recall': r_l, 'precision': p_l}}\n",
    "\n",
    "    # DEEP FEATURES check precision, recall and mae\n",
    "    p_d, r_d = run(user_profiles_deep, N, DEEP_FEATURES)\n",
    "    print \"Deep Recall\", r_d, \"Deep Precision\", p_d, \"For iteration with\", N\n",
    "    result[N] = {'deep': {'recall': r_d, 'precision': p_d}}\n",
    "\n",
    "    p, r, mae = recommender_classifier.recommend_random(user_datasets, N)\n",
    "    print \"Random Recall\", r, \"Random Precision\",  p, \"Random MAE\", mae, \"For iteration with\", N\n",
    "    result = {'ll': {'recall': r_l, 'precision': p_l}, 'deep': {'recall': r_d, 'precision': p_d}, 'random': {'recall': r, 'precision': p}}\n",
    "    \n",
    "    time.sleep(0.01)\n",
    "    with lock:\n",
    "        val.value = result\n",
    "    \n",
    "    # q.put({N: result})"
   ]
  },
  {
   "cell_type": "code",
   "execution_count": null,
   "metadata": {
    "collapsed": false
   },
   "outputs": [
    {
     "name": "stdout",
     "output_type": "stream",
     "text": [
      "Low-Level Recall 0.0147071531146 Low-Level Precision 0.00245119218577 For iteration with 6\n",
      "Low-Level Recall 0.0112532039062 Low-Level Precision 0.00281330097654 For iteration with 4\n",
      "Low-Level Recall 0.00520050450961 Low-Level Precision 0.00260025225481 For iteration with 2\n",
      "Low-Level Recall 0.00440226903084 Low-Level Precision 0.00440226903084 For iteration with 1\n",
      "Low-Level Recall 0.00816601853341 Low-Level Precision 0.0027220061778 For iteration with 3\n",
      "Low-Level Recall 0.0124544030102 Low-Level Precision 0.00249088060203 For iteration with 5\n",
      "Deep Recall 0.0105748165465 Deep Precision 0.00264370413663 For iteration with 4\n"
     ]
    },
    {
     "name": "stderr",
     "output_type": "stream",
     "text": [
      "Process Process-4:\n",
      "Traceback (most recent call last):\n",
      "  File \"/usr/lib/python2.7/multiprocessing/process.py\", line 258, in _bootstrap\n",
      "    self.run()\n",
      "  File \"/usr/lib/python2.7/multiprocessing/process.py\", line 114, in run\n",
      "    self._target(*self._args, **self._kwargs)\n",
      "  File \"<ipython-input-7-ddf49b1c9ca4>\", line 15, in experiment\n",
      "    p, r, mae = recommender_classifier.recommend_random(user_datasets, N)\n",
      "  File \"recommender_classifier.py\", line 104, in recommend_random\n",
      "    randomMovies = utils.getRandomMovieSet(conn, user[0])\n",
      "TypeError: 'int' object has no attribute '__getitem__'\n"
     ]
    },
    {
     "name": "stdout",
     "output_type": "stream",
     "text": [
      "Deep Recall 0.00955713766769 Deep Precision 0.0031857125559 For iteration with 3\n"
     ]
    },
    {
     "name": "stderr",
     "output_type": "stream",
     "text": [
      "Process Process-3:\n",
      "Traceback (most recent call last):\n",
      "  File \"/usr/lib/python2.7/multiprocessing/process.py\", line 258, in _bootstrap\n",
      "    self.run()\n",
      "  File \"/usr/lib/python2.7/multiprocessing/process.py\", line 114, in run\n",
      "    self._target(*self._args, **self._kwargs)\n",
      "  File \"<ipython-input-7-ddf49b1c9ca4>\", line 15, in experiment\n",
      "    p, r, mae = recommender_classifier.recommend_random(user_datasets, N)\n",
      "  File \"recommender_classifier.py\", line 104, in recommend_random\n",
      "    randomMovies = utils.getRandomMovieSet(conn, user[0])\n",
      "TypeError: 'int' object has no attribute '__getitem__'\n"
     ]
    },
    {
     "name": "stdout",
     "output_type": "stream",
     "text": [
      "Deep Recall 0.017102476647 Deep Precision 0.00285041277449 For iteration with 6\n"
     ]
    },
    {
     "name": "stderr",
     "output_type": "stream",
     "text": [
      "Process Process-6:\n",
      "Traceback (most recent call last):\n",
      "  File \"/usr/lib/python2.7/multiprocessing/process.py\", line 258, in _bootstrap\n",
      "    self.run()\n",
      "  File \"/usr/lib/python2.7/multiprocessing/process.py\", line 114, in run\n",
      "    self._target(*self._args, **self._kwargs)\n",
      "  File \"<ipython-input-7-ddf49b1c9ca4>\", line 15, in experiment\n",
      "    p, r, mae = recommender_classifier.recommend_random(user_datasets, N)\n",
      "  File \"recommender_classifier.py\", line 104, in recommend_random\n",
      "    randomMovies = utils.getRandomMovieSet(conn, user[0])\n",
      "TypeError: 'int' object has no attribute '__getitem__'\n"
     ]
    },
    {
     "name": "stdout",
     "output_type": "stream",
     "text": [
      "Deep Recall 0.00557784444544 Deep Precision 0.00557784444544 For iteration with 1\n"
     ]
    },
    {
     "name": "stderr",
     "output_type": "stream",
     "text": [
      "Process Process-1:\n",
      "Traceback (most recent call last):\n",
      "  File \"/usr/lib/python2.7/multiprocessing/process.py\", line 258, in _bootstrap\n",
      "    self.run()\n",
      "  File \"/usr/lib/python2.7/multiprocessing/process.py\", line 114, in run\n",
      "    self._target(*self._args, **self._kwargs)\n",
      "  File \"<ipython-input-7-ddf49b1c9ca4>\", line 15, in experiment\n",
      "    p, r, mae = recommender_classifier.recommend_random(user_datasets, N)\n",
      "  File \"recommender_classifier.py\", line 104, in recommend_random\n",
      "    randomMovies = utils.getRandomMovieSet(conn, user[0])\n",
      "TypeError: 'int' object has no attribute '__getitem__'\n"
     ]
    },
    {
     "name": "stdout",
     "output_type": "stream",
     "text": [
      "Deep Recall 0.00764076843442 Deep Precision 0.00382038421721 For iteration with 2\n"
     ]
    },
    {
     "name": "stderr",
     "output_type": "stream",
     "text": [
      "Process Process-2:\n",
      "Traceback (most recent call last):\n",
      "  File \"/usr/lib/python2.7/multiprocessing/process.py\", line 258, in _bootstrap\n",
      "    self.run()\n",
      "  File \"/usr/lib/python2.7/multiprocessing/process.py\", line 114, in run\n",
      "    self._target(*self._args, **self._kwargs)\n",
      "  File \"<ipython-input-7-ddf49b1c9ca4>\", line 15, in experiment\n",
      "    p, r, mae = recommender_classifier.recommend_random(user_datasets, N)\n",
      "  File \"recommender_classifier.py\", line 104, in recommend_random\n",
      "    randomMovies = utils.getRandomMovieSet(conn, user[0])\n",
      "TypeError: 'int' object has no attribute '__getitem__'\n"
     ]
    },
    {
     "name": "stdout",
     "output_type": "stream",
     "text": [
      "Deep Recall 0.0151387044943 Deep Precision 0.00302774089886 For iteration with 5\n"
     ]
    },
    {
     "name": "stderr",
     "output_type": "stream",
     "text": [
      "Process Process-5:\n",
      "Traceback (most recent call last):\n",
      "  File \"/usr/lib/python2.7/multiprocessing/process.py\", line 258, in _bootstrap\n",
      "    self.run()\n",
      "  File \"/usr/lib/python2.7/multiprocessing/process.py\", line 114, in run\n",
      "    self._target(*self._args, **self._kwargs)\n",
      "  File \"<ipython-input-7-ddf49b1c9ca4>\", line 15, in experiment\n",
      "    p, r, mae = recommender_classifier.recommend_random(user_datasets, N)\n",
      "  File \"recommender_classifier.py\", line 104, in recommend_random\n",
      "    randomMovies = utils.getRandomMovieSet(conn, user[0])\n",
      "TypeError: 'int' object has no attribute '__getitem__'\n"
     ]
    }
   ],
   "source": [
    "q = Queue()\n",
    "N = 1\n",
    "procs = [Process(target=func, args=(v, lock, i, user_profiles_low_level, LOW_LEVEL_FEATURES, user_profiles_deep, DEEP_FEATURES, Users,)) for i in range(5)]\n",
    "for p in procs: p.start()\n",
    "for p in procs: p.join()\n",
    "\n",
    "print v.value\n",
    "#     p = Process(target=experiment, args=(q, N, user_profiles_low_level, LOW_LEVEL_FEATURES, user_profiles_deep, DEEP_FEATURES, Users,))\n",
    "#     p.start()\n",
    "#     N += 1\n",
    "# print q.get()\n",
    "# p.join()\n",
    "\n",
    "# p = Pool(5)\n",
    "# print(p.map(run, [1, 2, 3, 4, 5, 6, 7, 8, 9, 10]))"
   ]
  },
  {
   "cell_type": "code",
   "execution_count": null,
   "metadata": {
    "collapsed": true
   },
   "outputs": [],
   "source": []
  }
 ],
 "metadata": {
  "kernelspec": {
   "display_name": "Python 2",
   "language": "python",
   "name": "python2"
  },
  "language_info": {
   "codemirror_mode": {
    "name": "ipython",
    "version": 2
   },
   "file_extension": ".py",
   "mimetype": "text/x-python",
   "name": "python",
   "nbconvert_exporter": "python",
   "pygments_lexer": "ipython2",
   "version": "2.7.6"
  }
 },
 "nbformat": 4,
 "nbformat_minor": 0
}
